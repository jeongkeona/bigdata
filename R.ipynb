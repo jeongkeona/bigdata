{
  "nbformat": 4,
  "nbformat_minor": 0,
  "metadata": {
    "colab": {
      "provenance": [],
      "authorship_tag": "ABX9TyOWw6GXLgJFOCH63SPs5wiZ",
      "include_colab_link": true
    },
    "kernelspec": {
      "name": "ir",
      "display_name": "R"
    },
    "language_info": {
      "name": "R"
    },
    "accelerator": "GPU",
    "gpuClass": "standard"
  },
  "cells": [
    {
      "cell_type": "markdown",
      "metadata": {
        "id": "view-in-github",
        "colab_type": "text"
      },
      "source": [
        "<a href=\"https://colab.research.google.com/github/jeongkeona/bigdata/blob/main/R.ipynb\" target=\"_parent\"><img src=\"https://colab.research.google.com/assets/colab-badge.svg\" alt=\"Open In Colab\"/></a>"
      ]
    },
    {
      "cell_type": "code",
      "execution_count": null,
      "metadata": {
        "colab": {
          "base_uri": "https://localhost:8080/",
          "height": 34
        },
        "id": "bydIRCvy8OQC",
        "outputId": "5dda4967-30ef-43ad-807e-ab2b4680a145"
      },
      "outputs": [
        {
          "output_type": "display_data",
          "data": {
            "text/html": [
              "3"
            ],
            "text/markdown": "3",
            "text/latex": "3",
            "text/plain": [
              "[1] 3"
            ]
          },
          "metadata": {}
        }
      ],
      "source": [
        "a<-c(3)\n",
        "a"
      ]
    },
    {
      "cell_type": "code",
      "source": [
        "#1.데이터유형\n",
        "\n",
        "#1.vector\n",
        "#  v1 <- c(-1,0,1)\n",
        "#  v2 <- c(\"Hello\",\"Hi\")\n",
        "\n",
        "#2.matrix\n",
        "# A = [1,2,3,4,5,6,7,8,9] 3x3\n",
        "# x <- c(1,2,3,4,5,6,7,8,9)\n",
        "# A <- matrix(x,nrow=3,ncol=3)\n",
        "\n",
        "#3.array\n",
        "#xx <- c(1,2,3,4,5,6)\n",
        "#arr <- array(xx,dim=c(2,2,3))\n",
        "#arr[행,열,1]\n",
        "#arr[,,2]\n",
        "#arr[,,3]\n",
        "\n",
        "#4.list : 집합\n",
        "#a=c(1,2,3,\"Hello\".\"Hi\")\n",
        "\n",
        "#5.data.frame\n",
        "# sex F F M M F F M F F M age 30 23 25 56 54 43 37 43 34 34 area 제주 서울 서울 경기 제주 인천 경기 인천 제주 제주 \n",
        "#SEX<-c(\"F\",\"F\",\"M\",\"M\",\"F\",\"F\",\"M\",\"F\",\"F\",\"M\")\n",
        "#AGE<-c(30,23,25,56,54,43,37,43,34,34)\n",
        "#AREA<-c(\"제주\",\"서울\",\"서울\",\"경기\",\"제주\",\"인천\",\"경기\",\"인천\",\"제주\",\"제주\")\n",
        "#f<-data.frame(SEX,AGE,AREA)"
      ],
      "metadata": {
        "id": "aGybAtRHunEg"
      },
      "execution_count": null,
      "outputs": []
    },
    {
      "cell_type": "code",
      "source": [
        "#2.벡터의 유형\n",
        "# num : 숫자형\n",
        "# str(ID)\n",
        "# str(AGE)\n",
        "# mode() : 타입 - numerir,character,factor\n",
        "# length() : 길이,데이터 갯수\n",
        "# chr : 문자형\n",
        "# Bool : 논리형 or logical\n",
        "# factor : 범주형 - 척도, 명목형\n",
        "# - 예) 과일 : apple,banana,cherry\n"
      ],
      "metadata": {
        "id": "aCqT0KuR1vAs"
      },
      "execution_count": null,
      "outputs": []
    },
    {
      "cell_type": "code",
      "source": [
        "x <- c(1,2,3,4,5,6,7,8,9)\n",
        "A <- matrix(x,nrow=3,ncol=3)\n",
        "A"
      ],
      "metadata": {
        "colab": {
          "base_uri": "https://localhost:8080/",
          "height": 163
        },
        "id": "tVK6Ff2AvXbw",
        "outputId": "a2e97d71-3fea-4aed-bf4a-97bd8071f6d7"
      },
      "execution_count": null,
      "outputs": [
        {
          "output_type": "display_data",
          "data": {
            "text/html": [
              "<table class=\"dataframe\">\n",
              "<caption>A matrix: 3 × 3 of type dbl</caption>\n",
              "<tbody>\n",
              "\t<tr><td>1</td><td>4</td><td>7</td></tr>\n",
              "\t<tr><td>2</td><td>5</td><td>8</td></tr>\n",
              "\t<tr><td>3</td><td>6</td><td>9</td></tr>\n",
              "</tbody>\n",
              "</table>\n"
            ],
            "text/markdown": "\nA matrix: 3 × 3 of type dbl\n\n| 1 | 4 | 7 |\n| 2 | 5 | 8 |\n| 3 | 6 | 9 |\n\n",
            "text/latex": "A matrix: 3 × 3 of type dbl\n\\begin{tabular}{lll}\n\t 1 & 4 & 7\\\\\n\t 2 & 5 & 8\\\\\n\t 3 & 6 & 9\\\\\n\\end{tabular}\n",
            "text/plain": [
              "     [,1] [,2] [,3]\n",
              "[1,] 1    4    7   \n",
              "[2,] 2    5    8   \n",
              "[3,] 3    6    9   "
            ]
          },
          "metadata": {}
        }
      ]
    },
    {
      "cell_type": "code",
      "source": [
        "x <- c(1,2,3,4,5,6,7,8,9)\n",
        "B <- matrix(x,nrow=3,ncol=3,byrow=T)\n",
        "B"
      ],
      "metadata": {
        "colab": {
          "base_uri": "https://localhost:8080/",
          "height": 163
        },
        "id": "fQet9u3cv5aP",
        "outputId": "d99b23bf-1198-4030-f1cc-094ba09bae04"
      },
      "execution_count": null,
      "outputs": [
        {
          "output_type": "display_data",
          "data": {
            "text/html": [
              "<table class=\"dataframe\">\n",
              "<caption>A matrix: 3 × 3 of type dbl</caption>\n",
              "<tbody>\n",
              "\t<tr><td>1</td><td>2</td><td>3</td></tr>\n",
              "\t<tr><td>4</td><td>5</td><td>6</td></tr>\n",
              "\t<tr><td>7</td><td>8</td><td>9</td></tr>\n",
              "</tbody>\n",
              "</table>\n"
            ],
            "text/markdown": "\nA matrix: 3 × 3 of type dbl\n\n| 1 | 2 | 3 |\n| 4 | 5 | 6 |\n| 7 | 8 | 9 |\n\n",
            "text/latex": "A matrix: 3 × 3 of type dbl\n\\begin{tabular}{lll}\n\t 1 & 2 & 3\\\\\n\t 4 & 5 & 6\\\\\n\t 7 & 8 & 9\\\\\n\\end{tabular}\n",
            "text/plain": [
              "     [,1] [,2] [,3]\n",
              "[1,] 1    2    3   \n",
              "[2,] 4    5    6   \n",
              "[3,] 7    8    9   "
            ]
          },
          "metadata": {}
        }
      ]
    },
    {
      "cell_type": "code",
      "source": [
        "xx <- c(1,2,3,4,5,6)\n",
        "arr <- array(xx,dim=c(2,2,3))\n",
        "arr[,,1]\n",
        "arr[,,2]\n",
        "arr[,,3]"
      ],
      "metadata": {
        "colab": {
          "base_uri": "https://localhost:8080/",
          "height": 518
        },
        "id": "we0b_VX2ycCP",
        "outputId": "fb3860e8-dc65-421e-fe5f-e96bf9bb907e"
      },
      "execution_count": null,
      "outputs": [
        {
          "output_type": "display_data",
          "data": {
            "text/html": [
              "<table class=\"dataframe\">\n",
              "<caption>A matrix: 2 × 2 of type dbl</caption>\n",
              "<tbody>\n",
              "\t<tr><td>1</td><td>3</td></tr>\n",
              "\t<tr><td>2</td><td>4</td></tr>\n",
              "</tbody>\n",
              "</table>\n"
            ],
            "text/markdown": "\nA matrix: 2 × 2 of type dbl\n\n| 1 | 3 |\n| 2 | 4 |\n\n",
            "text/latex": "A matrix: 2 × 2 of type dbl\n\\begin{tabular}{ll}\n\t 1 & 3\\\\\n\t 2 & 4\\\\\n\\end{tabular}\n",
            "text/plain": [
              "     [,1] [,2]\n",
              "[1,] 1    3   \n",
              "[2,] 2    4   "
            ]
          },
          "metadata": {}
        },
        {
          "output_type": "display_data",
          "data": {
            "text/html": [
              "<table class=\"dataframe\">\n",
              "<caption>A matrix: 2 × 2 of type dbl</caption>\n",
              "<tbody>\n",
              "\t<tr><td>5</td><td>1</td></tr>\n",
              "\t<tr><td>6</td><td>2</td></tr>\n",
              "</tbody>\n",
              "</table>\n"
            ],
            "text/markdown": "\nA matrix: 2 × 2 of type dbl\n\n| 5 | 1 |\n| 6 | 2 |\n\n",
            "text/latex": "A matrix: 2 × 2 of type dbl\n\\begin{tabular}{ll}\n\t 5 & 1\\\\\n\t 6 & 2\\\\\n\\end{tabular}\n",
            "text/plain": [
              "     [,1] [,2]\n",
              "[1,] 5    1   \n",
              "[2,] 6    2   "
            ]
          },
          "metadata": {}
        },
        {
          "output_type": "display_data",
          "data": {
            "text/html": [
              "<table class=\"dataframe\">\n",
              "<caption>A matrix: 2 × 2 of type dbl</caption>\n",
              "<tbody>\n",
              "\t<tr><td>3</td><td>5</td></tr>\n",
              "\t<tr><td>4</td><td>6</td></tr>\n",
              "</tbody>\n",
              "</table>\n"
            ],
            "text/markdown": "\nA matrix: 2 × 2 of type dbl\n\n| 3 | 5 |\n| 4 | 6 |\n\n",
            "text/latex": "A matrix: 2 × 2 of type dbl\n\\begin{tabular}{ll}\n\t 3 & 5\\\\\n\t 4 & 6\\\\\n\\end{tabular}\n",
            "text/plain": [
              "     [,1] [,2]\n",
              "[1,] 3    5   \n",
              "[2,] 4    6   "
            ]
          },
          "metadata": {}
        }
      ]
    },
    {
      "cell_type": "code",
      "source": [
        "SEX<-c(\"F\",\"F\",\"M\",\"M\",\"F\",\"F\",\"M\",\"F\",\"F\",\"M\")\n",
        "AGE<-c(30,23,25,56,54,43,37,43,34,34)\n",
        "AREA<-c(\"제주\",\"서울\",\"서울\",\"경기\",\"제주\",\"인천\",\"경기\",\"인천\",\"제주\",\"제주\")\n",
        "f<-data.frame(SEX,AGE,AREA)\n",
        "str(f)"
      ],
      "metadata": {
        "colab": {
          "base_uri": "https://localhost:8080/"
        },
        "id": "lOG0tWOy0Osn",
        "outputId": "b117cb27-4e0d-4aed-837a-458e744ae39b"
      },
      "execution_count": null,
      "outputs": [
        {
          "output_type": "stream",
          "name": "stdout",
          "text": [
            "'data.frame':\t10 obs. of  3 variables:\n",
            " $ SEX : chr  \"F\" \"F\" \"M\" \"M\" ...\n",
            " $ AGE : num  30 23 25 56 54 43 37 43 34 34\n",
            " $ AREA: chr  \"제주\" \"서울\" \"서울\" \"경기\" ...\n"
          ]
        }
      ]
    },
    {
      "cell_type": "code",
      "source": [
        "str(f$AGE)"
      ],
      "metadata": {
        "colab": {
          "base_uri": "https://localhost:8080/"
        },
        "id": "2R9qVUx82KGC",
        "outputId": "ee57b843-3467-4b98-b6a7-4ba8edc0686f"
      },
      "execution_count": null,
      "outputs": [
        {
          "output_type": "stream",
          "name": "stdout",
          "text": [
            " num [1:10] 30 23 25 56 54 43 37 43 34 34\n"
          ]
        }
      ]
    },
    {
      "cell_type": "code",
      "source": [
        "mode(AREA)"
      ],
      "metadata": {
        "colab": {
          "base_uri": "https://localhost:8080/",
          "height": 34
        },
        "id": "7zyEKKlO2Nti",
        "outputId": "e2911967-5796-47f4-8fc0-72f74af5082a"
      },
      "execution_count": null,
      "outputs": [
        {
          "output_type": "display_data",
          "data": {
            "text/html": [
              "'character'"
            ],
            "text/markdown": "'character'",
            "text/latex": "'character'",
            "text/plain": [
              "[1] \"character\""
            ]
          },
          "metadata": {}
        }
      ]
    },
    {
      "cell_type": "code",
      "source": [
        "frute<-c(\"apple\",\"banana\",\"banana\",\"cherry\",\"cherry\",\"cherry\",\"banana\",\"apple\",\"apple\",\"banana\")\n",
        "frute<-factor(frute, labels = c(\"apple\",\"banana\",\"cherry\"))\n",
        "str(frute)"
      ],
      "metadata": {
        "colab": {
          "base_uri": "https://localhost:8080/"
        },
        "id": "uAJ47LRi2Q6y",
        "outputId": "2e3db61b-1cc4-4fb7-b61c-65e8a8248b07"
      },
      "execution_count": null,
      "outputs": [
        {
          "output_type": "stream",
          "name": "stdout",
          "text": [
            " Factor w/ 3 levels \"apple\",\"banana\",..: 1 2 2 3 3 3 2 1 1 2\n"
          ]
        }
      ]
    },
    {
      "cell_type": "code",
      "source": [
        "f$SEX<-factor(SEX, labels = c(\"F\",\"M\"))\n",
        "str(f)"
      ],
      "metadata": {
        "colab": {
          "base_uri": "https://localhost:8080/"
        },
        "id": "FFPldu0v5IwU",
        "outputId": "c8eae4fe-8082-47c5-f3eb-dcd90c1e9953"
      },
      "execution_count": null,
      "outputs": [
        {
          "output_type": "stream",
          "name": "stdout",
          "text": [
            "'data.frame':\t10 obs. of  3 variables:\n",
            " $ SEX : Factor w/ 2 levels \"F\",\"M\": 1 1 2 2 1 1 2 1 1 2\n",
            " $ AGE : num  30 23 25 56 54 43 37 43 34 34\n",
            " $ AREA: chr  \"제주\" \"서울\" \"서울\" \"경기\" ...\n"
          ]
        }
      ]
    },
    {
      "cell_type": "code",
      "source": [
        "f$AREA<-factor(AREA, labels = c(\"제주\",\"서울\",\"경기\",\"인천\"))\n",
        "str(f)"
      ],
      "metadata": {
        "colab": {
          "base_uri": "https://localhost:8080/"
        },
        "id": "3m1UgO2Y5bWD",
        "outputId": "ba994676-a40f-4a3e-ab06-482791e90bbf"
      },
      "execution_count": null,
      "outputs": [
        {
          "output_type": "stream",
          "name": "stdout",
          "text": [
            "'data.frame':\t10 obs. of  3 variables:\n",
            " $ SEX : Factor w/ 2 levels \"F\",\"M\": 1 1 2 2 1 1 2 1 1 2\n",
            " $ AGE : num  30 23 25 56 54 43 37 43 34 34\n",
            " $ AREA: Factor w/ 4 levels \"제주\",\"서울\",..: 4 2 2 1 4 3 1 3 4 4\n"
          ]
        }
      ]
    },
    {
      "cell_type": "markdown",
      "source": [
        "조건문/반복문"
      ],
      "metadata": {
        "id": "_gHxK1bl9KQq"
      }
    },
    {
      "cell_type": "code",
      "source": [
        "x<-1:10\n",
        "y<-10:1"
      ],
      "metadata": {
        "id": "nhA8nKFa9NmC"
      },
      "execution_count": null,
      "outputs": []
    },
    {
      "cell_type": "code",
      "source": [
        "print(x)"
      ],
      "metadata": {
        "colab": {
          "base_uri": "https://localhost:8080/"
        },
        "id": "I89jUdBj9XJ6",
        "outputId": "ce64b6e6-35cb-4f2e-e748-b3fe9953d34f"
      },
      "execution_count": null,
      "outputs": [
        {
          "output_type": "stream",
          "name": "stdout",
          "text": [
            " [1]  1  2  3  4  5  6  7  8  9 10\n"
          ]
        }
      ]
    },
    {
      "cell_type": "code",
      "source": [
        "print(y)"
      ],
      "metadata": {
        "colab": {
          "base_uri": "https://localhost:8080/"
        },
        "id": "ovNvmgfz9X2i",
        "outputId": "be2df48a-fbda-48a1-8f9d-4471b051b3c0"
      },
      "execution_count": null,
      "outputs": [
        {
          "output_type": "stream",
          "name": "stdout",
          "text": [
            " [1] 10  9  8  7  6  5  4  3  2  1\n"
          ]
        }
      ]
    },
    {
      "cell_type": "code",
      "source": [
        "#조건문 연산자 +\n",
        "#              -\n",
        "#              *   \n",
        "#              / \n",
        "#              %% : 나머지\n",
        "#              %/% : 정수 나누기(몫)\n",
        "#              ** or ^ 제곱수 \n",
        "\n",
        "#관계 연산자(TRUE or FALSE)\n",
        "#           >\n",
        "#           >= 크거나 같다  \n",
        "#           <\n",
        "#           <= 작거나 같다\n",
        "#           == 같다\n",
        "#           =! 같지않다\n",
        "#           ! 다르다\n",
        "\n",
        "#논리 연산자\n",
        "#      & 그리고\n",
        "#      : 또는"
      ],
      "metadata": {
        "id": "aIYl1W0m9wrS"
      },
      "execution_count": null,
      "outputs": []
    },
    {
      "cell_type": "code",
      "source": [
        "a<-8\n",
        "if(a %% 2 == 0){\n",
        "    print(\"짝수\")\n",
        "}else{\n",
        "    print(\"홀수\")\n",
        "}"
      ],
      "metadata": {
        "colab": {
          "base_uri": "https://localhost:8080/"
        },
        "id": "0l1liVTm_3Rx",
        "outputId": "17b4ddb2-ed4c-4ccf-8d34-e079008946f7"
      },
      "execution_count": 3,
      "outputs": [
        {
          "output_type": "stream",
          "name": "stdout",
          "text": [
            "[1] \"짝수\"\n"
          ]
        }
      ]
    },
    {
      "cell_type": "markdown",
      "source": [
        "과제"
      ],
      "metadata": {
        "id": "NYKAYkAav4L2"
      }
    },
    {
      "cell_type": "code",
      "source": [
        "##1.세 수 중 가장 큰 수 출력\n",
        "a<-4\n",
        "b<-5\n",
        "c<-1\n",
        "if(a>b&c){\n",
        "    print(a)\n",
        "}else if(b>c&a){\n",
        "    print(b)\n",
        "}else{\n",
        "    print(c)\n",
        "}\n",
        "    \n"
      ],
      "metadata": {
        "colab": {
          "base_uri": "https://localhost:8080/"
        },
        "id": "hN-dr-y-A7-h",
        "outputId": "6244b333-1479-4de6-9d4d-28368783c154"
      },
      "execution_count": null,
      "outputs": [
        {
          "output_type": "stream",
          "name": "stdout",
          "text": [
            "[1] 5\n"
          ]
        }
      ]
    },
    {
      "cell_type": "code",
      "source": [
        "#2.내림차순 출력\n",
        "a<-4\n",
        "b<-5\n",
        "c<-1\n",
        "if(a>b>c){\n",
        "    print(a,b,c)\n",
        "}else if(b>c>a){\n",
        "    print(b,c,a)\n",
        "}else if(c>a>b){\n",
        "    print(c,a,b)\n",
        "}else if(a>c>b){\n",
        "    print(a,c,b)\n",
        "}else if(b>a>c){\n",
        "    print(b,a,c)\n",
        "}else{\n",
        "    print(c,b,a)\n",
        "}\n"
      ],
      "metadata": {
        "colab": {
          "base_uri": "https://localhost:8080/",
          "height": 156
        },
        "id": "2jL2OGSdsoiP",
        "outputId": "eb4dd411-d7d5-4e84-a092-776a379db1a5"
      },
      "execution_count": 30,
      "outputs": [
        {
          "output_type": "error",
          "ename": "ERROR",
          "evalue": "ignored",
          "traceback": [
            "Error in parse(text = x, srcfile = src): <text>:5:7: unexpected '>'\n4: c<-1\n5: if(a>b>\n         ^\nTraceback:\n"
          ]
        }
      ]
    },
    {
      "cell_type": "code",
      "source": [
        "#3.윤년검색기\n",
        "잘모르겠습니다"
      ],
      "metadata": {
        "id": "DqvXilr2uWMS"
      },
      "execution_count": null,
      "outputs": []
    },
    {
      "cell_type": "code",
      "source": [
        "##4.구구단 출력\n",
        "a<-2\n",
        "for(i in 1:9){\n",
        "    print(a*i)\n",
        "}"
      ],
      "metadata": {
        "colab": {
          "base_uri": "https://localhost:8080/"
        },
        "id": "guF7D9OWDYjo",
        "outputId": "3367e6d1-7e1d-4204-a349-02c5d4b5a85f"
      },
      "execution_count": 23,
      "outputs": [
        {
          "output_type": "stream",
          "name": "stdout",
          "text": [
            "[1] 2\n",
            "[1] 4\n",
            "[1] 6\n",
            "[1] 8\n",
            "[1] 10\n",
            "[1] 12\n",
            "[1] 14\n",
            "[1] 16\n",
            "[1] 18\n"
          ]
        }
      ]
    },
    {
      "cell_type": "code",
      "source": [
        "##5.1~100 총합 구하기\n",
        "sum <- 0\n",
        "for(i in 1:100){\n",
        "   sum <- sum+i\n",
        "   print(sum)\n",
        "}"
      ],
      "metadata": {
        "id": "DawhQ9c7GnD2"
      },
      "execution_count": null,
      "outputs": []
    },
    {
      "cell_type": "code",
      "source": [
        "##6.1~5 순차곱 구하기\n",
        "a <- 5\n",
        "sum <- 1\n",
        "for(i in 1:a){\n",
        "  sum <- sum*i \n",
        "}\n",
        "sum"
      ],
      "metadata": {
        "id": "RN2SYFfMMHuz",
        "colab": {
          "base_uri": "https://localhost:8080/",
          "height": 34
        },
        "outputId": "007e80bc-33f5-4feb-d1fd-3d19db42dbc0"
      },
      "execution_count": 10,
      "outputs": [
        {
          "output_type": "display_data",
          "data": {
            "text/html": [
              "120"
            ],
            "text/markdown": "120",
            "text/latex": "120",
            "text/plain": [
              "[1] 120"
            ]
          },
          "metadata": {}
        }
      ]
    },
    {
      "cell_type": "code",
      "source": [
        "##7.1~100 짝수/홀수 출력\n",
        "for(i in 1:100){\n",
        "  if(i%%2 == 0){\n",
        "      print(\"짝수\")}\n",
        "else{print(\"홀수\")}\n",
        "}"
      ],
      "metadata": {
        "colab": {
          "base_uri": "https://localhost:8080/"
        },
        "id": "zzZ4FKQiL_rW",
        "outputId": "b142bf12-9fc6-4604-8e10-858343d436ca"
      },
      "execution_count": 18,
      "outputs": [
        {
          "output_type": "stream",
          "name": "stdout",
          "text": [
            "[1] \"홀수\"\n",
            "[1] \"짝수\"\n",
            "[1] \"홀수\"\n",
            "[1] \"짝수\"\n",
            "[1] \"홀수\"\n",
            "[1] \"짝수\"\n",
            "[1] \"홀수\"\n",
            "[1] \"짝수\"\n",
            "[1] \"홀수\"\n",
            "[1] \"짝수\"\n",
            "[1] \"홀수\"\n",
            "[1] \"짝수\"\n",
            "[1] \"홀수\"\n",
            "[1] \"짝수\"\n",
            "[1] \"홀수\"\n",
            "[1] \"짝수\"\n",
            "[1] \"홀수\"\n",
            "[1] \"짝수\"\n",
            "[1] \"홀수\"\n",
            "[1] \"짝수\"\n",
            "[1] \"홀수\"\n",
            "[1] \"짝수\"\n",
            "[1] \"홀수\"\n",
            "[1] \"짝수\"\n",
            "[1] \"홀수\"\n",
            "[1] \"짝수\"\n",
            "[1] \"홀수\"\n",
            "[1] \"짝수\"\n",
            "[1] \"홀수\"\n",
            "[1] \"짝수\"\n",
            "[1] \"홀수\"\n",
            "[1] \"짝수\"\n",
            "[1] \"홀수\"\n",
            "[1] \"짝수\"\n",
            "[1] \"홀수\"\n",
            "[1] \"짝수\"\n",
            "[1] \"홀수\"\n",
            "[1] \"짝수\"\n",
            "[1] \"홀수\"\n",
            "[1] \"짝수\"\n",
            "[1] \"홀수\"\n",
            "[1] \"짝수\"\n",
            "[1] \"홀수\"\n",
            "[1] \"짝수\"\n",
            "[1] \"홀수\"\n",
            "[1] \"짝수\"\n",
            "[1] \"홀수\"\n",
            "[1] \"짝수\"\n",
            "[1] \"홀수\"\n",
            "[1] \"짝수\"\n",
            "[1] \"홀수\"\n",
            "[1] \"짝수\"\n",
            "[1] \"홀수\"\n",
            "[1] \"짝수\"\n",
            "[1] \"홀수\"\n",
            "[1] \"짝수\"\n",
            "[1] \"홀수\"\n",
            "[1] \"짝수\"\n",
            "[1] \"홀수\"\n",
            "[1] \"짝수\"\n",
            "[1] \"홀수\"\n",
            "[1] \"짝수\"\n",
            "[1] \"홀수\"\n",
            "[1] \"짝수\"\n",
            "[1] \"홀수\"\n",
            "[1] \"짝수\"\n",
            "[1] \"홀수\"\n",
            "[1] \"짝수\"\n",
            "[1] \"홀수\"\n",
            "[1] \"짝수\"\n",
            "[1] \"홀수\"\n",
            "[1] \"짝수\"\n",
            "[1] \"홀수\"\n",
            "[1] \"짝수\"\n",
            "[1] \"홀수\"\n",
            "[1] \"짝수\"\n",
            "[1] \"홀수\"\n",
            "[1] \"짝수\"\n",
            "[1] \"홀수\"\n",
            "[1] \"짝수\"\n",
            "[1] \"홀수\"\n",
            "[1] \"짝수\"\n",
            "[1] \"홀수\"\n",
            "[1] \"짝수\"\n",
            "[1] \"홀수\"\n",
            "[1] \"짝수\"\n",
            "[1] \"홀수\"\n",
            "[1] \"짝수\"\n",
            "[1] \"홀수\"\n",
            "[1] \"짝수\"\n",
            "[1] \"홀수\"\n",
            "[1] \"짝수\"\n",
            "[1] \"홀수\"\n",
            "[1] \"짝수\"\n",
            "[1] \"홀수\"\n",
            "[1] \"짝수\"\n",
            "[1] \"홀수\"\n",
            "[1] \"짝수\"\n",
            "[1] \"홀수\"\n",
            "[1] \"짝수\"\n"
          ]
        }
      ]
    },
    {
      "cell_type": "code",
      "source": [
        "##8.5의 배수 출력\n",
        "for(i in 1:100){\n",
        "  if(i%%5 == 0){print(i)\n",
        "  }else{print(\"x\")}\n",
        "}"
      ],
      "metadata": {
        "colab": {
          "base_uri": "https://localhost:8080/"
        },
        "id": "4twWcOAYOtki",
        "outputId": "1ee158d9-e94e-4d2c-efc4-b2103e0b20e1"
      },
      "execution_count": 16,
      "outputs": [
        {
          "output_type": "stream",
          "name": "stdout",
          "text": [
            "[1] \"x\"\n",
            "[1] \"x\"\n",
            "[1] \"x\"\n",
            "[1] \"x\"\n",
            "[1] 5\n",
            "[1] \"x\"\n",
            "[1] \"x\"\n",
            "[1] \"x\"\n",
            "[1] \"x\"\n",
            "[1] 10\n",
            "[1] \"x\"\n",
            "[1] \"x\"\n",
            "[1] \"x\"\n",
            "[1] \"x\"\n",
            "[1] 15\n",
            "[1] \"x\"\n",
            "[1] \"x\"\n",
            "[1] \"x\"\n",
            "[1] \"x\"\n",
            "[1] 20\n",
            "[1] \"x\"\n",
            "[1] \"x\"\n",
            "[1] \"x\"\n",
            "[1] \"x\"\n",
            "[1] 25\n",
            "[1] \"x\"\n",
            "[1] \"x\"\n",
            "[1] \"x\"\n",
            "[1] \"x\"\n",
            "[1] 30\n",
            "[1] \"x\"\n",
            "[1] \"x\"\n",
            "[1] \"x\"\n",
            "[1] \"x\"\n",
            "[1] 35\n",
            "[1] \"x\"\n",
            "[1] \"x\"\n",
            "[1] \"x\"\n",
            "[1] \"x\"\n",
            "[1] 40\n",
            "[1] \"x\"\n",
            "[1] \"x\"\n",
            "[1] \"x\"\n",
            "[1] \"x\"\n",
            "[1] 45\n",
            "[1] \"x\"\n",
            "[1] \"x\"\n",
            "[1] \"x\"\n",
            "[1] \"x\"\n",
            "[1] 50\n",
            "[1] \"x\"\n",
            "[1] \"x\"\n",
            "[1] \"x\"\n",
            "[1] \"x\"\n",
            "[1] 55\n",
            "[1] \"x\"\n",
            "[1] \"x\"\n",
            "[1] \"x\"\n",
            "[1] \"x\"\n",
            "[1] 60\n",
            "[1] \"x\"\n",
            "[1] \"x\"\n",
            "[1] \"x\"\n",
            "[1] \"x\"\n",
            "[1] 65\n",
            "[1] \"x\"\n",
            "[1] \"x\"\n",
            "[1] \"x\"\n",
            "[1] \"x\"\n",
            "[1] 70\n",
            "[1] \"x\"\n",
            "[1] \"x\"\n",
            "[1] \"x\"\n",
            "[1] \"x\"\n",
            "[1] 75\n",
            "[1] \"x\"\n",
            "[1] \"x\"\n",
            "[1] \"x\"\n",
            "[1] \"x\"\n",
            "[1] 80\n",
            "[1] \"x\"\n",
            "[1] \"x\"\n",
            "[1] \"x\"\n",
            "[1] \"x\"\n",
            "[1] 85\n",
            "[1] \"x\"\n",
            "[1] \"x\"\n",
            "[1] \"x\"\n",
            "[1] \"x\"\n",
            "[1] 90\n",
            "[1] \"x\"\n",
            "[1] \"x\"\n",
            "[1] \"x\"\n",
            "[1] \"x\"\n",
            "[1] 95\n",
            "[1] \"x\"\n",
            "[1] \"x\"\n",
            "[1] \"x\"\n",
            "[1] \"x\"\n",
            "[1] 100\n"
          ]
        }
      ]
    },
    {
      "cell_type": "code",
      "source": [
        "##9.2와3의 공배수\n",
        "for(i in 1:100){\n",
        "  if(i%%2 == 0&i%%3 == 0){print(\"2,3의 공배수\")\n",
        "  }else{print(\"2,3의 공배수가 아님\")}\n",
        "}"
      ],
      "metadata": {
        "colab": {
          "base_uri": "https://localhost:8080/"
        },
        "id": "TK95Zc3Wp12O",
        "outputId": "d6db0303-3f48-4095-8000-2832abb75f7f"
      },
      "execution_count": 24,
      "outputs": [
        {
          "output_type": "stream",
          "name": "stdout",
          "text": [
            "[1] \"2,3의 공배수가 아님\"\n",
            "[1] \"2,3의 공배수가 아님\"\n",
            "[1] \"2,3의 공배수가 아님\"\n",
            "[1] \"2,3의 공배수가 아님\"\n",
            "[1] \"2,3의 공배수가 아님\"\n",
            "[1] \"2,3의 공배수\"\n",
            "[1] \"2,3의 공배수가 아님\"\n",
            "[1] \"2,3의 공배수가 아님\"\n",
            "[1] \"2,3의 공배수가 아님\"\n",
            "[1] \"2,3의 공배수가 아님\"\n",
            "[1] \"2,3의 공배수가 아님\"\n",
            "[1] \"2,3의 공배수\"\n",
            "[1] \"2,3의 공배수가 아님\"\n",
            "[1] \"2,3의 공배수가 아님\"\n",
            "[1] \"2,3의 공배수가 아님\"\n",
            "[1] \"2,3의 공배수가 아님\"\n",
            "[1] \"2,3의 공배수가 아님\"\n",
            "[1] \"2,3의 공배수\"\n",
            "[1] \"2,3의 공배수가 아님\"\n",
            "[1] \"2,3의 공배수가 아님\"\n",
            "[1] \"2,3의 공배수가 아님\"\n",
            "[1] \"2,3의 공배수가 아님\"\n",
            "[1] \"2,3의 공배수가 아님\"\n",
            "[1] \"2,3의 공배수\"\n",
            "[1] \"2,3의 공배수가 아님\"\n",
            "[1] \"2,3의 공배수가 아님\"\n",
            "[1] \"2,3의 공배수가 아님\"\n",
            "[1] \"2,3의 공배수가 아님\"\n",
            "[1] \"2,3의 공배수가 아님\"\n",
            "[1] \"2,3의 공배수\"\n",
            "[1] \"2,3의 공배수가 아님\"\n",
            "[1] \"2,3의 공배수가 아님\"\n",
            "[1] \"2,3의 공배수가 아님\"\n",
            "[1] \"2,3의 공배수가 아님\"\n",
            "[1] \"2,3의 공배수가 아님\"\n",
            "[1] \"2,3의 공배수\"\n",
            "[1] \"2,3의 공배수가 아님\"\n",
            "[1] \"2,3의 공배수가 아님\"\n",
            "[1] \"2,3의 공배수가 아님\"\n",
            "[1] \"2,3의 공배수가 아님\"\n",
            "[1] \"2,3의 공배수가 아님\"\n",
            "[1] \"2,3의 공배수\"\n",
            "[1] \"2,3의 공배수가 아님\"\n",
            "[1] \"2,3의 공배수가 아님\"\n",
            "[1] \"2,3의 공배수가 아님\"\n",
            "[1] \"2,3의 공배수가 아님\"\n",
            "[1] \"2,3의 공배수가 아님\"\n",
            "[1] \"2,3의 공배수\"\n",
            "[1] \"2,3의 공배수가 아님\"\n",
            "[1] \"2,3의 공배수가 아님\"\n",
            "[1] \"2,3의 공배수가 아님\"\n",
            "[1] \"2,3의 공배수가 아님\"\n",
            "[1] \"2,3의 공배수가 아님\"\n",
            "[1] \"2,3의 공배수\"\n",
            "[1] \"2,3의 공배수가 아님\"\n",
            "[1] \"2,3의 공배수가 아님\"\n",
            "[1] \"2,3의 공배수가 아님\"\n",
            "[1] \"2,3의 공배수가 아님\"\n",
            "[1] \"2,3의 공배수가 아님\"\n",
            "[1] \"2,3의 공배수\"\n",
            "[1] \"2,3의 공배수가 아님\"\n",
            "[1] \"2,3의 공배수가 아님\"\n",
            "[1] \"2,3의 공배수가 아님\"\n",
            "[1] \"2,3의 공배수가 아님\"\n",
            "[1] \"2,3의 공배수가 아님\"\n",
            "[1] \"2,3의 공배수\"\n",
            "[1] \"2,3의 공배수가 아님\"\n",
            "[1] \"2,3의 공배수가 아님\"\n",
            "[1] \"2,3의 공배수가 아님\"\n",
            "[1] \"2,3의 공배수가 아님\"\n",
            "[1] \"2,3의 공배수가 아님\"\n",
            "[1] \"2,3의 공배수\"\n",
            "[1] \"2,3의 공배수가 아님\"\n",
            "[1] \"2,3의 공배수가 아님\"\n",
            "[1] \"2,3의 공배수가 아님\"\n",
            "[1] \"2,3의 공배수가 아님\"\n",
            "[1] \"2,3의 공배수가 아님\"\n",
            "[1] \"2,3의 공배수\"\n",
            "[1] \"2,3의 공배수가 아님\"\n",
            "[1] \"2,3의 공배수가 아님\"\n",
            "[1] \"2,3의 공배수가 아님\"\n",
            "[1] \"2,3의 공배수가 아님\"\n",
            "[1] \"2,3의 공배수가 아님\"\n",
            "[1] \"2,3의 공배수\"\n",
            "[1] \"2,3의 공배수가 아님\"\n",
            "[1] \"2,3의 공배수가 아님\"\n",
            "[1] \"2,3의 공배수가 아님\"\n",
            "[1] \"2,3의 공배수가 아님\"\n",
            "[1] \"2,3의 공배수가 아님\"\n",
            "[1] \"2,3의 공배수\"\n",
            "[1] \"2,3의 공배수가 아님\"\n",
            "[1] \"2,3의 공배수가 아님\"\n",
            "[1] \"2,3의 공배수가 아님\"\n",
            "[1] \"2,3의 공배수가 아님\"\n",
            "[1] \"2,3의 공배수가 아님\"\n",
            "[1] \"2,3의 공배수\"\n",
            "[1] \"2,3의 공배수가 아님\"\n",
            "[1] \"2,3의 공배수가 아님\"\n",
            "[1] \"2,3의 공배수가 아님\"\n",
            "[1] \"2,3의 공배수가 아님\"\n"
          ]
        }
      ]
    },
    {
      "cell_type": "code",
      "source": [
        "##10.평균구하기\n",
        "sum <- 0\n",
        "for(i in 1:100){\n",
        "  sum <- sum + i\n",
        "}\n",
        "print(sum/100)"
      ],
      "metadata": {
        "colab": {
          "base_uri": "https://localhost:8080/"
        },
        "id": "hF0gq1uip19k",
        "outputId": "2eee9f91-e8d7-49c6-dcc0-30831e8f1582"
      },
      "execution_count": 13,
      "outputs": [
        {
          "output_type": "stream",
          "name": "stdout",
          "text": [
            "[1] 50.5\n"
          ]
        }
      ]
    }
  ]
}